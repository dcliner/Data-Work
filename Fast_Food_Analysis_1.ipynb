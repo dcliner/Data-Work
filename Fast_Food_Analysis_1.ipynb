{
 "cells":[
  {
   "cell_type":"code",
   "source":[
    "import pandas as pd\n",
    "import numpy as np\n",
    "import statsmodels.api as sm"
   ],
   "execution_count":1,
   "outputs":[
    
   ],
   "metadata":{
    "datalore":{
     "node_id":"EX2CgFs4LJLYqsiPEjMpnf",
     "type":"CODE",
     "hide_input_from_viewers":true,
     "hide_output_from_viewers":true
    }
   }
  },
  {
   "cell_type":"code",
   "source":[
    "Fast_F_df = pd.read_csv(\"fastfood.csv\")"
   ],
   "execution_count":4,
   "outputs":[
    
   ],
   "metadata":{
    "datalore":{
     "node_id":"PhOt0XyeQTnbaYcyPOe2rR",
     "type":"CODE",
     "hide_input_from_viewers":true,
     "hide_output_from_viewers":true
    }
   }
  },
  {
   "cell_type":"code",
   "source":[
    "Fast_F_df.head()"
   ],
   "execution_count":5,
   "outputs":[
    {
     "data":{
      "text\/html":[
       "<div>\n",
       "<style scoped>\n",
       "    .dataframe tbody tr th:only-of-type {\n",
       "        vertical-align: middle;\n",
       "    }\n",
       "\n",
       "    .dataframe tbody tr th {\n",
       "        vertical-align: top;\n",
       "    }\n",
       "\n",
       "    .dataframe thead th {\n",
       "        text-align: right;\n",
       "    }\n",
       "<\/style>\n",
       "<table border=\"1\" class=\"dataframe\">\n",
       "  <thead>\n",
       "    <tr style=\"text-align: right;\">\n",
       "      <th><\/th>\n",
       "      <th>Unnamed: 0<\/th>\n",
       "      <th>restaurant<\/th>\n",
       "      <th>item<\/th>\n",
       "      <th>calories<\/th>\n",
       "      <th>cal_fat<\/th>\n",
       "      <th>total_fat<\/th>\n",
       "      <th>sat_fat<\/th>\n",
       "      <th>trans_fat<\/th>\n",
       "      <th>cholesterol<\/th>\n",
       "      <th>sodium<\/th>\n",
       "      <th>total_carb<\/th>\n",
       "      <th>fiber<\/th>\n",
       "      <th>sugar<\/th>\n",
       "      <th>protein<\/th>\n",
       "      <th>vit_a<\/th>\n",
       "      <th>vit_c<\/th>\n",
       "      <th>calcium<\/th>\n",
       "      <th>salad<\/th>\n",
       "    <\/tr>\n",
       "  <\/thead>\n",
       "  <tbody>\n",
       "    <tr>\n",
       "      <th>0<\/th>\n",
       "      <td>1<\/td>\n",
       "      <td>Mcdonalds<\/td>\n",
       "      <td>Artisan Grilled Chicken Sandwich<\/td>\n",
       "      <td>380<\/td>\n",
       "      <td>60<\/td>\n",
       "      <td>7<\/td>\n",
       "      <td>2.0<\/td>\n",
       "      <td>0.0<\/td>\n",
       "      <td>95<\/td>\n",
       "      <td>1110<\/td>\n",
       "      <td>44<\/td>\n",
       "      <td>3.0<\/td>\n",
       "      <td>11<\/td>\n",
       "      <td>37.0<\/td>\n",
       "      <td>4.0<\/td>\n",
       "      <td>20.0<\/td>\n",
       "      <td>20.0<\/td>\n",
       "      <td>Other<\/td>\n",
       "    <\/tr>\n",
       "    <tr>\n",
       "      <th>1<\/th>\n",
       "      <td>2<\/td>\n",
       "      <td>Mcdonalds<\/td>\n",
       "      <td>Single Bacon Smokehouse Burger<\/td>\n",
       "      <td>840<\/td>\n",
       "      <td>410<\/td>\n",
       "      <td>45<\/td>\n",
       "      <td>17.0<\/td>\n",
       "      <td>1.5<\/td>\n",
       "      <td>130<\/td>\n",
       "      <td>1580<\/td>\n",
       "      <td>62<\/td>\n",
       "      <td>2.0<\/td>\n",
       "      <td>18<\/td>\n",
       "      <td>46.0<\/td>\n",
       "      <td>6.0<\/td>\n",
       "      <td>20.0<\/td>\n",
       "      <td>20.0<\/td>\n",
       "      <td>Other<\/td>\n",
       "    <\/tr>\n",
       "    <tr>\n",
       "      <th>2<\/th>\n",
       "      <td>3<\/td>\n",
       "      <td>Mcdonalds<\/td>\n",
       "      <td>Double Bacon Smokehouse Burger<\/td>\n",
       "      <td>1130<\/td>\n",
       "      <td>600<\/td>\n",
       "      <td>67<\/td>\n",
       "      <td>27.0<\/td>\n",
       "      <td>3.0<\/td>\n",
       "      <td>220<\/td>\n",
       "      <td>1920<\/td>\n",
       "      <td>63<\/td>\n",
       "      <td>3.0<\/td>\n",
       "      <td>18<\/td>\n",
       "      <td>70.0<\/td>\n",
       "      <td>10.0<\/td>\n",
       "      <td>20.0<\/td>\n",
       "      <td>50.0<\/td>\n",
       "      <td>Other<\/td>\n",
       "    <\/tr>\n",
       "    <tr>\n",
       "      <th>3<\/th>\n",
       "      <td>4<\/td>\n",
       "      <td>Mcdonalds<\/td>\n",
       "      <td>Grilled Bacon Smokehouse Chicken Sandwich<\/td>\n",
       "      <td>750<\/td>\n",
       "      <td>280<\/td>\n",
       "      <td>31<\/td>\n",
       "      <td>10.0<\/td>\n",
       "      <td>0.5<\/td>\n",
       "      <td>155<\/td>\n",
       "      <td>1940<\/td>\n",
       "      <td>62<\/td>\n",
       "      <td>2.0<\/td>\n",
       "      <td>18<\/td>\n",
       "      <td>55.0<\/td>\n",
       "      <td>6.0<\/td>\n",
       "      <td>25.0<\/td>\n",
       "      <td>20.0<\/td>\n",
       "      <td>Other<\/td>\n",
       "    <\/tr>\n",
       "    <tr>\n",
       "      <th>4<\/th>\n",
       "      <td>5<\/td>\n",
       "      <td>Mcdonalds<\/td>\n",
       "      <td>Crispy Bacon Smokehouse Chicken Sandwich<\/td>\n",
       "      <td>920<\/td>\n",
       "      <td>410<\/td>\n",
       "      <td>45<\/td>\n",
       "      <td>12.0<\/td>\n",
       "      <td>0.5<\/td>\n",
       "      <td>120<\/td>\n",
       "      <td>1980<\/td>\n",
       "      <td>81<\/td>\n",
       "      <td>4.0<\/td>\n",
       "      <td>18<\/td>\n",
       "      <td>46.0<\/td>\n",
       "      <td>6.0<\/td>\n",
       "      <td>20.0<\/td>\n",
       "      <td>20.0<\/td>\n",
       "      <td>Other<\/td>\n",
       "    <\/tr>\n",
       "  <\/tbody>\n",
       "<\/table>\n",
       "<\/div>"
      ]
     },
     "metadata":{
      
     },
     "output_type":"display_data"
    }
   ],
   "metadata":{
    "datalore":{
     "node_id":"MPs75dgDOARhFvrcIikWgK",
     "type":"CODE",
     "hide_input_from_viewers":true,
     "hide_output_from_viewers":true
    }
   }
  },
  {
   "cell_type":"code",
   "source":[
    "Fast_F_df.columns"
   ],
   "execution_count":6,
   "outputs":[
    {
     "data":{
      "text\/plain":[
       "Index(['Unnamed: 0', 'restaurant', 'item', 'calories', 'cal_fat', 'total_fat',\n",
       "       'sat_fat', 'trans_fat', 'cholesterol', 'sodium', 'total_carb', 'fiber',\n",
       "       'sugar', 'protein', 'vit_a', 'vit_c', 'calcium', 'salad'],\n",
       "      dtype='object')"
      ]
     },
     "metadata":{
      
     },
     "output_type":"display_data"
    }
   ],
   "metadata":{
    "datalore":{
     "node_id":"QnM3qigyBPxUS8V9Gy5eoP",
     "type":"CODE",
     "hide_input_from_viewers":true,
     "hide_output_from_viewers":true
    }
   }
  },
  {
   "cell_type":"code",
   "source":[
    "Fast_F_X = Fast_F_df[['total_fat','sat_fat','cholesterol','sodium']]\n",
    "Fast_F_Y = Fast_F_df[['calories']]"
   ],
   "execution_count":7,
   "outputs":[
    
   ],
   "metadata":{
    "datalore":{
     "node_id":"Bth53cnjIWfiWc1EbT45Qr",
     "type":"CODE",
     "hide_input_from_viewers":true,
     "hide_output_from_viewers":true
    }
   }
  },
  {
   "cell_type":"code",
   "source":[
    "X = Fast_F_X\n",
    "Y = Fast_F_Y"
   ],
   "execution_count":10,
   "outputs":[
    
   ],
   "metadata":{
    "datalore":{
     "node_id":"zfFidk5S9RhCbiEIA8NbJg",
     "type":"CODE",
     "hide_input_from_viewers":true,
     "hide_output_from_viewers":true
    }
   }
  },
  {
   "cell_type":"code",
   "source":[
    "X = sm.add_constant(X)"
   ],
   "execution_count":11,
   "outputs":[
    
   ],
   "metadata":{
    "datalore":{
     "node_id":"u1PixRGXA8sZRZ1g9KFINf",
     "type":"CODE",
     "hide_input_from_viewers":true,
     "hide_output_from_viewers":true
    }
   }
  },
  {
   "cell_type":"code",
   "source":[
    "sm_model = sm.OLS(Y,X)\n",
    "model = sm_model.fit()"
   ],
   "execution_count":12,
   "outputs":[
    
   ],
   "metadata":{
    "datalore":{
     "node_id":"7AZ4qrNJt6MDlq71LeArPc",
     "type":"CODE",
     "hide_input_from_viewers":true,
     "hide_output_from_viewers":true
    }
   }
  },
  {
   "cell_type":"code",
   "source":[
    "print(model.mse_total.round(2))\n",
    "print(model.rsquared.round(2))\n",
    "print(model.params.round(2))\n",
    "print(model.pvalues.round(2))"
   ],
   "execution_count":13,
   "outputs":[
    {
     "name":"stdout",
     "text":[
      "79770.18\n",
      "0.9\n",
      "const          71.73\n",
      "total_fat       9.10\n",
      "sat_fat         0.60\n",
      "cholesterol     0.21\n",
      "sodium          0.16\n",
      "dtype: float64\n",
      "const          0.00\n",
      "total_fat      0.00\n",
      "sat_fat        0.64\n",
      "cholesterol    0.07\n",
      "sodium         0.00\n",
      "dtype: float64\n"
     ],
     "output_type":"stream"
    }
   ],
   "metadata":{
    "datalore":{
     "node_id":"Rfsuls8cFxAOsDjH9qADyO",
     "type":"CODE",
     "hide_input_from_viewers":true,
     "hide_output_from_viewers":true
    }
   }
  }
 ],
 "metadata":{
  "kernelspec":{
   "display_name":"Python",
   "language":"python",
   "name":"python"
  },
  "datalore":{
   "version":1,
   "computation_mode":"JUPYTER",
   "package_manager":"pip",
   "base_environment":"default",
   "packages":[
    
   ]
  }
 },
 "nbformat":4,
 "nbformat_minor":4
}