{
 "cells":[
  {
   "cell_type":"code",
   "source":[
    "import pandas as pd\n",
    "import numpy as np\n",
    "import statsmodels.api as sm"
   ],
   "execution_count":1,
   "outputs":[
    
   ],
   "metadata":{
    "datalore":{
     "node_id":"t0fl4dpknVyeFV3OIOW8V2",
     "type":"CODE",
     "hide_input_from_viewers":true,
     "hide_output_from_viewers":true
    }
   }
  },
  {
   "cell_type":"code",
   "source":[
    "German_df = pd.read_csv(\"german_credit_data.csv\")"
   ],
   "execution_count":2,
   "outputs":[
    
   ],
   "metadata":{
    "datalore":{
     "node_id":"B5BmlMvEubr3L4yfQ4V5Pe",
     "type":"CODE",
     "hide_input_from_viewers":true,
     "hide_output_from_viewers":true
    }
   }
  },
  {
   "cell_type":"code",
   "source":[
    "German_df.head(5)"
   ],
   "execution_count":3,
   "outputs":[
    {
     "data":{
      "text\/html":[
       "<div>\n",
       "<style scoped>\n",
       "    .dataframe tbody tr th:only-of-type {\n",
       "        vertical-align: middle;\n",
       "    }\n",
       "\n",
       "    .dataframe tbody tr th {\n",
       "        vertical-align: top;\n",
       "    }\n",
       "\n",
       "    .dataframe thead th {\n",
       "        text-align: right;\n",
       "    }\n",
       "<\/style>\n",
       "<table border=\"1\" class=\"dataframe\">\n",
       "  <thead>\n",
       "    <tr style=\"text-align: right;\">\n",
       "      <th><\/th>\n",
       "      <th>Unnamed: 0<\/th>\n",
       "      <th>Age<\/th>\n",
       "      <th>Sex<\/th>\n",
       "      <th>Job<\/th>\n",
       "      <th>Housing<\/th>\n",
       "      <th>Saving accounts<\/th>\n",
       "      <th>Checking account<\/th>\n",
       "      <th>Credit amount<\/th>\n",
       "      <th>Duration<\/th>\n",
       "      <th>Purpose<\/th>\n",
       "    <\/tr>\n",
       "  <\/thead>\n",
       "  <tbody>\n",
       "    <tr>\n",
       "      <th>0<\/th>\n",
       "      <td>0<\/td>\n",
       "      <td>67<\/td>\n",
       "      <td>male<\/td>\n",
       "      <td>2<\/td>\n",
       "      <td>own<\/td>\n",
       "      <td>NaN<\/td>\n",
       "      <td>little<\/td>\n",
       "      <td>1169<\/td>\n",
       "      <td>6<\/td>\n",
       "      <td>radio\/TV<\/td>\n",
       "    <\/tr>\n",
       "    <tr>\n",
       "      <th>1<\/th>\n",
       "      <td>1<\/td>\n",
       "      <td>22<\/td>\n",
       "      <td>female<\/td>\n",
       "      <td>2<\/td>\n",
       "      <td>own<\/td>\n",
       "      <td>little<\/td>\n",
       "      <td>moderate<\/td>\n",
       "      <td>5951<\/td>\n",
       "      <td>48<\/td>\n",
       "      <td>radio\/TV<\/td>\n",
       "    <\/tr>\n",
       "    <tr>\n",
       "      <th>2<\/th>\n",
       "      <td>2<\/td>\n",
       "      <td>49<\/td>\n",
       "      <td>male<\/td>\n",
       "      <td>1<\/td>\n",
       "      <td>own<\/td>\n",
       "      <td>little<\/td>\n",
       "      <td>NaN<\/td>\n",
       "      <td>2096<\/td>\n",
       "      <td>12<\/td>\n",
       "      <td>education<\/td>\n",
       "    <\/tr>\n",
       "    <tr>\n",
       "      <th>3<\/th>\n",
       "      <td>3<\/td>\n",
       "      <td>45<\/td>\n",
       "      <td>male<\/td>\n",
       "      <td>2<\/td>\n",
       "      <td>free<\/td>\n",
       "      <td>little<\/td>\n",
       "      <td>little<\/td>\n",
       "      <td>7882<\/td>\n",
       "      <td>42<\/td>\n",
       "      <td>furniture\/equipment<\/td>\n",
       "    <\/tr>\n",
       "    <tr>\n",
       "      <th>4<\/th>\n",
       "      <td>4<\/td>\n",
       "      <td>53<\/td>\n",
       "      <td>male<\/td>\n",
       "      <td>2<\/td>\n",
       "      <td>free<\/td>\n",
       "      <td>little<\/td>\n",
       "      <td>little<\/td>\n",
       "      <td>4870<\/td>\n",
       "      <td>24<\/td>\n",
       "      <td>car<\/td>\n",
       "    <\/tr>\n",
       "  <\/tbody>\n",
       "<\/table>\n",
       "<\/div>"
      ]
     },
     "metadata":{
      
     },
     "output_type":"display_data"
    }
   ],
   "metadata":{
    "datalore":{
     "node_id":"fC0AB7LB41LNYLsTlXnCmk",
     "type":"CODE",
     "hide_input_from_viewers":true,
     "hide_output_from_viewers":true
    }
   }
  },
  {
   "cell_type":"code",
   "source":[
    "German_df.columns"
   ],
   "execution_count":4,
   "outputs":[
    {
     "data":{
      "text\/plain":[
       "Index(['Unnamed: 0', 'Age', 'Sex', 'Job', 'Housing', 'Saving accounts',\n",
       "       'Checking account', 'Credit amount', 'Duration', 'Purpose'],\n",
       "      dtype='object')"
      ]
     },
     "metadata":{
      
     },
     "output_type":"display_data"
    }
   ],
   "metadata":{
    "datalore":{
     "node_id":"sqiSWQB35yhdVAMLfmRGPt",
     "type":"CODE",
     "hide_input_from_viewers":true,
     "hide_output_from_viewers":true
    }
   }
  },
  {
   "cell_type":"code",
   "source":[
    "German_df.drop(\"Unnamed: 0\", axis= 1, inplace = True)"
   ],
   "execution_count":5,
   "outputs":[
    
   ],
   "metadata":{
    "datalore":{
     "node_id":"WCk7OcUxL135tXitX6HZob",
     "type":"CODE",
     "hide_input_from_viewers":true,
     "hide_output_from_viewers":true
    }
   }
  },
  {
   "cell_type":"code",
   "source":[
    "German_df.head()"
   ],
   "execution_count":6,
   "outputs":[
    {
     "data":{
      "text\/html":[
       "<div>\n",
       "<style scoped>\n",
       "    .dataframe tbody tr th:only-of-type {\n",
       "        vertical-align: middle;\n",
       "    }\n",
       "\n",
       "    .dataframe tbody tr th {\n",
       "        vertical-align: top;\n",
       "    }\n",
       "\n",
       "    .dataframe thead th {\n",
       "        text-align: right;\n",
       "    }\n",
       "<\/style>\n",
       "<table border=\"1\" class=\"dataframe\">\n",
       "  <thead>\n",
       "    <tr style=\"text-align: right;\">\n",
       "      <th><\/th>\n",
       "      <th>Age<\/th>\n",
       "      <th>Sex<\/th>\n",
       "      <th>Job<\/th>\n",
       "      <th>Housing<\/th>\n",
       "      <th>Saving accounts<\/th>\n",
       "      <th>Checking account<\/th>\n",
       "      <th>Credit amount<\/th>\n",
       "      <th>Duration<\/th>\n",
       "      <th>Purpose<\/th>\n",
       "    <\/tr>\n",
       "  <\/thead>\n",
       "  <tbody>\n",
       "    <tr>\n",
       "      <th>0<\/th>\n",
       "      <td>67<\/td>\n",
       "      <td>male<\/td>\n",
       "      <td>2<\/td>\n",
       "      <td>own<\/td>\n",
       "      <td>NaN<\/td>\n",
       "      <td>little<\/td>\n",
       "      <td>1169<\/td>\n",
       "      <td>6<\/td>\n",
       "      <td>radio\/TV<\/td>\n",
       "    <\/tr>\n",
       "    <tr>\n",
       "      <th>1<\/th>\n",
       "      <td>22<\/td>\n",
       "      <td>female<\/td>\n",
       "      <td>2<\/td>\n",
       "      <td>own<\/td>\n",
       "      <td>little<\/td>\n",
       "      <td>moderate<\/td>\n",
       "      <td>5951<\/td>\n",
       "      <td>48<\/td>\n",
       "      <td>radio\/TV<\/td>\n",
       "    <\/tr>\n",
       "    <tr>\n",
       "      <th>2<\/th>\n",
       "      <td>49<\/td>\n",
       "      <td>male<\/td>\n",
       "      <td>1<\/td>\n",
       "      <td>own<\/td>\n",
       "      <td>little<\/td>\n",
       "      <td>NaN<\/td>\n",
       "      <td>2096<\/td>\n",
       "      <td>12<\/td>\n",
       "      <td>education<\/td>\n",
       "    <\/tr>\n",
       "    <tr>\n",
       "      <th>3<\/th>\n",
       "      <td>45<\/td>\n",
       "      <td>male<\/td>\n",
       "      <td>2<\/td>\n",
       "      <td>free<\/td>\n",
       "      <td>little<\/td>\n",
       "      <td>little<\/td>\n",
       "      <td>7882<\/td>\n",
       "      <td>42<\/td>\n",
       "      <td>furniture\/equipment<\/td>\n",
       "    <\/tr>\n",
       "    <tr>\n",
       "      <th>4<\/th>\n",
       "      <td>53<\/td>\n",
       "      <td>male<\/td>\n",
       "      <td>2<\/td>\n",
       "      <td>free<\/td>\n",
       "      <td>little<\/td>\n",
       "      <td>little<\/td>\n",
       "      <td>4870<\/td>\n",
       "      <td>24<\/td>\n",
       "      <td>car<\/td>\n",
       "    <\/tr>\n",
       "  <\/tbody>\n",
       "<\/table>\n",
       "<\/div>"
      ]
     },
     "metadata":{
      
     },
     "output_type":"display_data"
    }
   ],
   "metadata":{
    "datalore":{
     "node_id":"nQKRGMC0sLDCLVh48Fq92d",
     "type":"CODE",
     "hide_input_from_viewers":true,
     "hide_output_from_viewers":true
    }
   }
  },
  {
   "cell_type":"code",
   "source":[
    "German_df.rename(columns={'Credit amount':'Credit_amount'}, inplace= True)"
   ],
   "execution_count":7,
   "outputs":[
    
   ],
   "metadata":{
    "datalore":{
     "node_id":"eof7OucEx4Tmf4Xx1ozlMh",
     "type":"CODE",
     "hide_input_from_viewers":true,
     "hide_output_from_viewers":true
    }
   }
  },
  {
   "cell_type":"code",
   "source":[
    "German_df.columns"
   ],
   "execution_count":8,
   "outputs":[
    {
     "data":{
      "text\/plain":[
       "Index(['Age', 'Sex', 'Job', 'Housing', 'Saving accounts', 'Checking account',\n",
       "       'Credit_amount', 'Duration', 'Purpose'],\n",
       "      dtype='object')"
      ]
     },
     "metadata":{
      
     },
     "output_type":"display_data"
    }
   ],
   "metadata":{
    "datalore":{
     "node_id":"StPgiwEXz15NucNzxPm1WB",
     "type":"CODE",
     "hide_input_from_viewers":true,
     "hide_output_from_viewers":true
    }
   }
  },
  {
   "cell_type":"code",
   "source":[
    "German_df.head()"
   ],
   "execution_count":9,
   "outputs":[
    {
     "data":{
      "text\/html":[
       "<div>\n",
       "<style scoped>\n",
       "    .dataframe tbody tr th:only-of-type {\n",
       "        vertical-align: middle;\n",
       "    }\n",
       "\n",
       "    .dataframe tbody tr th {\n",
       "        vertical-align: top;\n",
       "    }\n",
       "\n",
       "    .dataframe thead th {\n",
       "        text-align: right;\n",
       "    }\n",
       "<\/style>\n",
       "<table border=\"1\" class=\"dataframe\">\n",
       "  <thead>\n",
       "    <tr style=\"text-align: right;\">\n",
       "      <th><\/th>\n",
       "      <th>Age<\/th>\n",
       "      <th>Sex<\/th>\n",
       "      <th>Job<\/th>\n",
       "      <th>Housing<\/th>\n",
       "      <th>Saving accounts<\/th>\n",
       "      <th>Checking account<\/th>\n",
       "      <th>Credit_amount<\/th>\n",
       "      <th>Duration<\/th>\n",
       "      <th>Purpose<\/th>\n",
       "    <\/tr>\n",
       "  <\/thead>\n",
       "  <tbody>\n",
       "    <tr>\n",
       "      <th>0<\/th>\n",
       "      <td>67<\/td>\n",
       "      <td>male<\/td>\n",
       "      <td>2<\/td>\n",
       "      <td>own<\/td>\n",
       "      <td>NaN<\/td>\n",
       "      <td>little<\/td>\n",
       "      <td>1169<\/td>\n",
       "      <td>6<\/td>\n",
       "      <td>radio\/TV<\/td>\n",
       "    <\/tr>\n",
       "    <tr>\n",
       "      <th>1<\/th>\n",
       "      <td>22<\/td>\n",
       "      <td>female<\/td>\n",
       "      <td>2<\/td>\n",
       "      <td>own<\/td>\n",
       "      <td>little<\/td>\n",
       "      <td>moderate<\/td>\n",
       "      <td>5951<\/td>\n",
       "      <td>48<\/td>\n",
       "      <td>radio\/TV<\/td>\n",
       "    <\/tr>\n",
       "    <tr>\n",
       "      <th>2<\/th>\n",
       "      <td>49<\/td>\n",
       "      <td>male<\/td>\n",
       "      <td>1<\/td>\n",
       "      <td>own<\/td>\n",
       "      <td>little<\/td>\n",
       "      <td>NaN<\/td>\n",
       "      <td>2096<\/td>\n",
       "      <td>12<\/td>\n",
       "      <td>education<\/td>\n",
       "    <\/tr>\n",
       "    <tr>\n",
       "      <th>3<\/th>\n",
       "      <td>45<\/td>\n",
       "      <td>male<\/td>\n",
       "      <td>2<\/td>\n",
       "      <td>free<\/td>\n",
       "      <td>little<\/td>\n",
       "      <td>little<\/td>\n",
       "      <td>7882<\/td>\n",
       "      <td>42<\/td>\n",
       "      <td>furniture\/equipment<\/td>\n",
       "    <\/tr>\n",
       "    <tr>\n",
       "      <th>4<\/th>\n",
       "      <td>53<\/td>\n",
       "      <td>male<\/td>\n",
       "      <td>2<\/td>\n",
       "      <td>free<\/td>\n",
       "      <td>little<\/td>\n",
       "      <td>little<\/td>\n",
       "      <td>4870<\/td>\n",
       "      <td>24<\/td>\n",
       "      <td>car<\/td>\n",
       "    <\/tr>\n",
       "  <\/tbody>\n",
       "<\/table>\n",
       "<\/div>"
      ]
     },
     "metadata":{
      
     },
     "output_type":"display_data"
    }
   ],
   "metadata":{
    "datalore":{
     "node_id":"NGKhdWSLoEh0PuJz2K8kwz",
     "type":"CODE",
     "hide_input_from_viewers":true,
     "hide_output_from_viewers":true
    }
   }
  },
  {
   "cell_type":"code",
   "source":[
    "Ger_x_df = German_df[['Age', 'Duration']]"
   ],
   "execution_count":10,
   "outputs":[
    
   ],
   "metadata":{
    "datalore":{
     "node_id":"b1FdAnYUh0YRgR4a3JC36J",
     "type":"CODE",
     "hide_input_from_viewers":true,
     "hide_output_from_viewers":true
    }
   }
  },
  {
   "cell_type":"code",
   "source":[
    "Ger_x_df.head()"
   ],
   "execution_count":11,
   "outputs":[
    {
     "data":{
      "text\/html":[
       "<div>\n",
       "<style scoped>\n",
       "    .dataframe tbody tr th:only-of-type {\n",
       "        vertical-align: middle;\n",
       "    }\n",
       "\n",
       "    .dataframe tbody tr th {\n",
       "        vertical-align: top;\n",
       "    }\n",
       "\n",
       "    .dataframe thead th {\n",
       "        text-align: right;\n",
       "    }\n",
       "<\/style>\n",
       "<table border=\"1\" class=\"dataframe\">\n",
       "  <thead>\n",
       "    <tr style=\"text-align: right;\">\n",
       "      <th><\/th>\n",
       "      <th>Age<\/th>\n",
       "      <th>Duration<\/th>\n",
       "    <\/tr>\n",
       "  <\/thead>\n",
       "  <tbody>\n",
       "    <tr>\n",
       "      <th>0<\/th>\n",
       "      <td>67<\/td>\n",
       "      <td>6<\/td>\n",
       "    <\/tr>\n",
       "    <tr>\n",
       "      <th>1<\/th>\n",
       "      <td>22<\/td>\n",
       "      <td>48<\/td>\n",
       "    <\/tr>\n",
       "    <tr>\n",
       "      <th>2<\/th>\n",
       "      <td>49<\/td>\n",
       "      <td>12<\/td>\n",
       "    <\/tr>\n",
       "    <tr>\n",
       "      <th>3<\/th>\n",
       "      <td>45<\/td>\n",
       "      <td>42<\/td>\n",
       "    <\/tr>\n",
       "    <tr>\n",
       "      <th>4<\/th>\n",
       "      <td>53<\/td>\n",
       "      <td>24<\/td>\n",
       "    <\/tr>\n",
       "  <\/tbody>\n",
       "<\/table>\n",
       "<\/div>"
      ]
     },
     "metadata":{
      
     },
     "output_type":"display_data"
    }
   ],
   "metadata":{
    "datalore":{
     "node_id":"6RSRBQI5Uh08JKbcYelsZB",
     "type":"CODE",
     "hide_input_from_viewers":true,
     "hide_output_from_viewers":true
    }
   }
  },
  {
   "cell_type":"code",
   "source":[
    "X = Ger_x_df\n",
    "Y = German_df[['Credit_amount']]"
   ],
   "execution_count":12,
   "outputs":[
    
   ],
   "metadata":{
    "datalore":{
     "node_id":"NgRM9mVXOQ6clUZ8K1liHm",
     "type":"CODE",
     "hide_input_from_viewers":true,
     "hide_output_from_viewers":true
    }
   }
  },
  {
   "cell_type":"code",
   "source":[
    "X = sm.add_constant(X)"
   ],
   "execution_count":13,
   "outputs":[
    
   ],
   "metadata":{
    "datalore":{
     "node_id":"5AiHXwStEylZ9mP2yaeKjJ",
     "type":"CODE",
     "hide_input_from_viewers":true,
     "hide_output_from_viewers":true
    }
   }
  },
  {
   "cell_type":"code",
   "source":[
    "sm_model = sm.OLS(Y,X)\n",
    "model = sm_model.fit()"
   ],
   "execution_count":14,
   "outputs":[
    
   ],
   "metadata":{
    "datalore":{
     "node_id":"DIlQgbITviSBatV4I9sFaY",
     "type":"CODE",
     "hide_input_from_viewers":true,
     "hide_output_from_viewers":true
    }
   }
  },
  {
   "cell_type":"code",
   "source":[
    "print(model.params.round(2))\n",
    "print(model.rsquared.round(2))"
   ],
   "execution_count":15,
   "outputs":[
    {
     "name":"stdout",
     "text":[
      "const      -284.99\n",
      "Age          13.74\n",
      "Duration    146.77\n",
      "dtype: float64\n",
      "0.39\n"
     ],
     "output_type":"stream"
    }
   ],
   "metadata":{
    "datalore":{
     "node_id":"EGoTBjbdI35dDofBIFYv98",
     "type":"CODE",
     "hide_input_from_viewers":true,
     "hide_output_from_viewers":true
    }
   }
  }
 ],
 "metadata":{
  "kernelspec":{
   "display_name":"Python",
   "language":"python",
   "name":"python"
  },
  "datalore":{
   "version":1,
   "computation_mode":"JUPYTER",
   "package_manager":"pip",
   "base_environment":"default",
   "packages":[
    
   ]
  }
 },
 "nbformat":4,
 "nbformat_minor":4
}